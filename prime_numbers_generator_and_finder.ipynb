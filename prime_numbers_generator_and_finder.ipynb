{
 "cells": [
  {
   "cell_type": "code",
   "execution_count": 21,
   "id": "a6f68b5d",
   "metadata": {},
   "outputs": [],
   "source": [
    "#get up to n primes numbers\n",
    "def get_primes(N):\n",
    "    primes = set()\n",
    "    for n in range (2, N):\n",
    "        if all(n%p > 0 for p in primes):\n",
    "            primes.add(n)\n",
    "            yield n"
   ]
  },
  {
   "cell_type": "code",
   "execution_count": 22,
   "id": "63830e30",
   "metadata": {},
   "outputs": [
    {
     "name": "stdout",
     "output_type": "stream",
     "text": [
      "7927\n"
     ]
    }
   ],
   "source": [
    "# get n located prime number\n",
    "primes = [(*get_primes(10000))]\n",
    "\n",
    "#print it\n",
    "print(primes[1000])"
   ]
  }
 ],
 "metadata": {
  "kernelspec": {
   "display_name": "Python 3",
   "language": "python",
   "name": "python3"
  },
  "language_info": {
   "codemirror_mode": {
    "name": "ipython",
    "version": 3
   },
   "file_extension": ".py",
   "mimetype": "text/x-python",
   "name": "python",
   "nbconvert_exporter": "python",
   "pygments_lexer": "ipython3",
   "version": "3.8.8"
  }
 },
 "nbformat": 4,
 "nbformat_minor": 5
}
